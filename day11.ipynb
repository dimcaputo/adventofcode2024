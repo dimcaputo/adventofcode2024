{
 "cells": [
  {
   "cell_type": "code",
   "execution_count": 39,
   "metadata": {},
   "outputs": [
    {
     "name": "stdout",
     "output_type": "stream",
     "text": [
      "{1: 11, 2: 13, 3: 21, 4: 32, 5: 48, 6: 71, 7: 112, 8: 151, 9: 226, 10: 393, 11: 572, 12: 840, 13: 1249, 14: 1928, 15: 3084, 16: 4423, 17: 6707, 18: 10432, 19: 15492, 20: 24053, 21: 36192, 22: 54707, 23: 83905, 24: 125396, 25: 193899, 0: 8}\n"
     ]
    },
    {
     "data": {
      "text/plain": [
       "<function matplotlib.pyplot.show(close=None, block=None)>"
      ]
     },
     "execution_count": 39,
     "metadata": {},
     "output_type": "execute_result"
    },
    {
     "data": {
      "image/png": "[encoded data removed]",
      "text/plain": [
       "<Figure size 640x480 with 1 Axes>"
      ]
     },
     "metadata": {},
     "output_type": "display_data"
    }
   ],
   "source": [
    "import matplotlib.pyplot as plt\n",
    "\n",
    "input = '0 89741 316108 7641 756 9 7832357 91'\n",
    "lst_input = [int(x) for x in input.split()]\n",
    "len_for_count ={}\n",
    "dico_cache = {}\n",
    "\n",
    "def modif_stones(lst, number, count):\n",
    "    if count < number:\n",
    "        new_lst = []\n",
    "        for item in lst:\n",
    "            if item in dico_cache.keys():\n",
    "                if isinstance(dico_cache[item], list):\n",
    "                    new_lst.extend(dico_cache[item])\n",
    "                else:\n",
    "                    new_lst.append(dico_cache[item])\n",
    "            elif item == 0:\n",
    "                new_lst.append(1)\n",
    "                dico_cache[item] = 1\n",
    "            elif len(str(item))%2 == 0:\n",
    "                item = str(item)\n",
    "                mid = int(len(item) / 2)\n",
    "                new_lst.append(int(item[:mid]))\n",
    "                new_lst.append(int(item[mid:]))\n",
    "                dico_cache[item] = [int(item[:mid]),int(item[mid:])]\n",
    "            elif len(str(item))%2 != 0:\n",
    "                new_lst.append(item*2024)\n",
    "                dico_cache[item] = item*2024\n",
    "        count += 1\n",
    "        len_for_count[count] = len(new_lst)\n",
    "        return modif_stones(new_lst, number, count)\n",
    "    else:\n",
    "        return lst\n",
    "\n",
    "first = modif_stones(lst_input, 25, 0)\n",
    "\n",
    "\n",
    "len_for_count[0] = len(lst_input)\n",
    "\n",
    "\n",
    "print(len_for_count)\n",
    "\n",
    "plt.scatter(len_for_count.keys(), len_for_count.values())\n",
    "plt.yscale('log')\n",
    "plt.show"
   ]
  },
  {
   "cell_type": "code",
   "execution_count": 40,
   "metadata": {},
   "outputs": [
    {
     "data": {
      "text/plain": [
       "LinregressResult(slope=0.4112375495611169, intercept=1.8395199642359277, rvalue=0.9997278860115246, pvalue=1.0866312632029336e-40, stderr=0.0019586923219673223, intercept_stderr=0.028552601765485748)"
      ]
     },
     "execution_count": 40,
     "metadata": {},
     "output_type": "execute_result"
    }
   ],
   "source": [
    "from scipy.stats import linregress\n",
    "import numpy as np\n",
    "\n",
    "x = list(len_for_count.keys())\n",
    "y = list(len_for_count.values())\n",
    "transform_log = lambda x:np.log(x) if x != 0 else 0\n",
    "y_log = []\n",
    "for i in y:\n",
    "    y_log.append(transform_log(i))\n",
    "result = linregress(x, y_log)\n",
    "\n",
    "result"
   ]
  },
  {
   "cell_type": "code",
   "execution_count": 41,
   "metadata": {},
   "outputs": [
    {
     "data": {
      "text/plain": [
       "156227779201231.66"
      ]
     },
     "execution_count": 41,
     "metadata": {},
     "output_type": "execute_result"
    }
   ],
   "source": [
    "a = 0.43\n",
    "b = 1\n",
    "\n",
    "res = np.exp(result.slope*75+result.intercept)\n",
    "res\n"
   ]
  },
  {
   "cell_type": "code",
   "execution_count": 17,
   "metadata": {},
   "outputs": [],
   "source": [
    "input = '0 89741 316108 7641 756 9 7832357 91'\n",
    "lst_input = [int(x) for x in input.split()]\n",
    "len_for_count ={}\n",
    "dico_cache = {}\n",
    "\n",
    "def modif_stones2(lst, number, count):\n",
    "    while count < number:\n",
    "        print(count)\n",
    "        if count == 0:\n",
    "            for item in lst:\n",
    "                if item in dico_cache.keys():\n",
    "                    pass\n",
    "                elif item == 0:\n",
    "                    dico_cache[item] = 1\n",
    "                elif len(str(item))%2 == 0:\n",
    "                    item = str(item)\n",
    "                    mid = int(len(item) / 2)\n",
    "                    dico_cache[item] = [int(item[:mid]),int(item[mid:])]\n",
    "                elif len(str(item))%2 != 0:\n",
    "                    dico_cache[item] = item*2024\n",
    "        else:\n",
    "            for item in dico_cache.copy().values():\n",
    "                if item in dico_cache.keys():\n",
    "                    pass\n",
    "                elif item == 0:\n",
    "                    dico_cache[item] = 1\n",
    "                elif len(str(item))%2 == 0:\n",
    "                    item = str(item)\n",
    "                    mid = int(len(item) / 2)\n",
    "                    dico_cache[item] = [int(item[:mid]),int(item[mid:])]\n",
    "                elif len(str(item))%2 != 0:\n",
    "                    dico_cache[item] = item*2024\n",
    "        count += 1\n",
    "\n"
   ]
  },
  {
   "cell_type": "code",
   "execution_count": 6,
   "metadata": {},
   "outputs": [],
   "source": [
    "import time\n",
    "\n",
    "def time_elapsed(folds):\n",
    "    start = time.time()\n",
    "    modif_stones(lst_input, folds, 0)\n",
    "    elapsed = time.time() - start\n",
    "    return elapsed\n",
    "\n"
   ]
  },
  {
   "cell_type": "code",
   "execution_count": 18,
   "metadata": {},
   "outputs": [],
   "source": [
    "lst_time = []\n",
    "for x in range(0,41):\n",
    "    lst_time.append(time_elapsed(x))"
   ]
  },
  {
   "cell_type": "code",
   "execution_count": 19,
   "metadata": {},
   "outputs": [
    {
     "data": {
      "text/plain": [
       "[9.5367431640625e-07,\n",
       " 1.8596649169921875e-05,\n",
       " 3.361701965332031e-05,\n",
       " 4.982948303222656e-05,\n",
       " 7.867813110351562e-05,\n",
       " 0.00011801719665527344,\n",
       " 0.0002689361572265625,\n",
       " 0.00028014183044433594,\n",
       " 0.0004239082336425781,\n",
       " 0.0005784034729003906,\n",
       " 0.0009794235229492188,\n",
       " 0.0017573833465576172,\n",
       " 0.002154827117919922,\n",
       " 0.0034019947052001953,\n",
       " 0.0054988861083984375,\n",
       " 0.008718013763427734,\n",
       " 0.012214183807373047,\n",
       " 0.01682877540588379,\n",
       " 0.025142669677734375,\n",
       " 0.026740550994873047,\n",
       " 0.030283451080322266,\n",
       " 0.03968000411987305,\n",
       " 0.06586050987243652,\n",
       " 0.09728646278381348,\n",
       " 0.1431260108947754,\n",
       " 0.22366738319396973,\n",
       " 0.3452587127685547,\n",
       " 0.5095727443695068,\n",
       " 0.7532048225402832,\n",
       " 1.1311204433441162,\n",
       " 1.729353904724121,\n",
       " 2.671394109725952,\n",
       " 3.939143657684326,\n",
       " 6.003434419631958,\n",
       " 9.327993631362915,\n",
       " 14.3130624294281,\n",
       " 21.106465816497803,\n",
       " 31.8743155002594,\n",
       " 49.406705141067505,\n",
       " 75.18029451370239,\n",
       " 112.45093202590942]"
      ]
     },
     "execution_count": 19,
     "metadata": {},
     "output_type": "execute_result"
    }
   ],
   "source": [
    "lst_time"
   ]
  },
  {
   "cell_type": "code",
   "execution_count": 20,
   "metadata": {},
   "outputs": [
    {
     "data": {
      "text/plain": [
       "<matplotlib.collections.PathCollection at 0x7b4da42fef30>"
      ]
     },
     "execution_count": 20,
     "metadata": {},
     "output_type": "execute_result"
    },
    {
     "data": {
      "image/png": "[encoded data removed]",
      "text/plain": [
       "<Figure size 640x480 with 1 Axes>"
      ]
     },
     "metadata": {},
     "output_type": "display_data"
    }
   ],
   "source": [
    "plt.scatter(range(41), lst_time)"
   ]
  },
  {
   "cell_type": "code",
   "execution_count": null,
   "metadata": {},
   "outputs": [],
   "source": []
  }
 ],
 "metadata": {
  "kernelspec": {
   "display_name": "stats",
   "language": "python",
   "name": "python3"
  },
  "language_info": {
   "codemirror_mode": {
    "name": "ipython",
    "version": 3
   },
   "file_extension": ".py",
   "mimetype": "text/x-python",
   "name": "python",
   "nbconvert_exporter": "python",
   "pygments_lexer": "ipython3",
   "version": "3.12.7"
  }
 },
 "nbformat": 4,
 "nbformat_minor": 2
}
