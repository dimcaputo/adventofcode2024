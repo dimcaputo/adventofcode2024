{
 "cells": [
  {
   "cell_type": "code",
   "execution_count": 1,
   "metadata": {},
   "outputs": [
    {
     "name": "stdout",
     "output_type": "stream",
     "text": [
      "{1: 11, 2: 13, 3: 21, 4: 32, 5: 48, 6: 71, 7: 112, 8: 151, 9: 226, 10: 393, 11: 572, 12: 840, 13: 1249, 14: 1928, 15: 3084, 16: 4423, 17: 6707, 18: 10432, 19: 15492, 20: 24053, 21: 36192, 22: 54707, 23: 83905, 24: 125396, 25: 193899, 0: 8}\n"
     ]
    },
    {
     "data": {
      "text/plain": [
       "<function matplotlib.pyplot.show(close=None, block=None)>"
      ]
     },
     "execution_count": 1,
     "metadata": {},
     "output_type": "execute_result"
    },
    {
     "data": {
      "image/png": "[encoded data removed]",
      "text/plain": [
       "<Figure size 640x480 with 1 Axes>"
      ]
     },
     "metadata": {},
     "output_type": "display_data"
    }
   ],
   "source": [
    "import matplotlib.pyplot as plt\n",
    "\n",
    "input = '0 89741 316108 7641 756 9 7832357 91'\n",
    "lst_input = [int(x) for x in input.split()]\n",
    "len_for_count ={}\n",
    "\n",
    "def modif_stones(lst, number, count):\n",
    "    if count < number:\n",
    "        new_lst = []\n",
    "        for item in lst:\n",
    "            if item == 0:\n",
    "                new_lst.append(1)\n",
    "            elif len(str(item))%2 == 0:\n",
    "                item = str(item)\n",
    "                mid = int(len(item) / 2)\n",
    "                new_lst.append(int(item[:mid]))\n",
    "                new_lst.append(int(item[mid:]))\n",
    "            elif len(str(item))%2 != 0:\n",
    "                new_lst.append(item*2024)\n",
    "        count += 1\n",
    "        len_for_count[count] = len(new_lst)\n",
    "        return modif_stones(new_lst, number, count)\n",
    "    else:\n",
    "        return lst\n",
    "\n",
    "first = modif_stones(lst_input, 25, 0)\n",
    "len_for_count[0] = len(lst_input)\n",
    "print(len_for_count)\n",
    "\n",
    "plt.scatter(len_for_count.keys(), len_for_count.values())\n",
    "# plt.yscale('log')\n",
    "plt.show"
   ]
  },
  {
   "cell_type": "code",
   "execution_count": 2,
   "metadata": {},
   "outputs": [],
   "source": [
    "from scipy.stats import linregress\n",
    "import numpy as np\n",
    "\n",
    "lst_x = []\n",
    "lst_logs = []\n",
    "for k,v in len_for_count.items():\n",
    "    lst_logs.append(np.log(v))\n",
    "    lst_x.append(k)\n",
    "# result = linregress(len_for_count.keys(), lst_logs)\n",
    "\n",
    "\n"
   ]
  },
  {
   "cell_type": "code",
   "execution_count": 3,
   "metadata": {},
   "outputs": [],
   "source": [
    "results = linregress(lst_x, lst_logs)"
   ]
  },
  {
   "cell_type": "code",
   "execution_count": 4,
   "metadata": {},
   "outputs": [],
   "source": [
    "a = results.slope\n",
    "b = results.intercept\n",
    "\n",
    "y = np.exp(results.slope*75 + results.intercept)"
   ]
  },
  {
   "cell_type": "code",
   "execution_count": 5,
   "metadata": {},
   "outputs": [
    {
     "data": {
      "text/plain": [
       "156227779201231.66"
      ]
     },
     "execution_count": 5,
     "metadata": {},
     "output_type": "execute_result"
    }
   ],
   "source": [
    "y"
   ]
  },
  {
   "cell_type": "code",
   "execution_count": 6,
   "metadata": {},
   "outputs": [
    {
     "data": {
      "text/plain": [
       "LinregressResult(slope=0.4112375495611169, intercept=1.8395199642359277, rvalue=0.9997278860115246, pvalue=1.0866312632029336e-40, stderr=0.0019586923219673223, intercept_stderr=0.028552601765485748)"
      ]
     },
     "execution_count": 6,
     "metadata": {},
     "output_type": "execute_result"
    }
   ],
   "source": [
    "results"
   ]
  },
  {
   "cell_type": "code",
   "execution_count": null,
   "metadata": {},
   "outputs": [],
   "source": []
  }
 ],
 "metadata": {
  "kernelspec": {
   "display_name": "stats",
   "language": "python",
   "name": "python3"
  },
  "language_info": {
   "codemirror_mode": {
    "name": "ipython",
    "version": 3
   },
   "file_extension": ".py",
   "mimetype": "text/x-python",
   "name": "python",
   "nbconvert_exporter": "python",
   "pygments_lexer": "ipython3",
   "version": "3.12.7"
  }
 },
 "nbformat": 4,
 "nbformat_minor": 2
}
