{
 "cells": [
  {
   "cell_type": "code",
   "execution_count": null,
   "metadata": {},
   "outputs": [],
   "source": [
    "import copy"
   ]
  },
  {
   "cell_type": "code",
   "execution_count": null,
   "metadata": {},
   "outputs": [],
   "source": [
    "with open('/Users/dimitricaputo/Downloads/input6.txt', 'r') as f:\n",
    "    txt = [list(x.strip('\\n')) for x in f.readlines()]"
   ]
  },
  {
   "cell_type": "code",
   "execution_count": null,
   "metadata": {},
   "outputs": [],
   "source": [
    "def find_guard(lst_of_lst):\n",
    "    for i in range(len(lst_of_lst)):\n",
    "        for j in range(len(lst_of_lst[i])):\n",
    "            if lst_of_lst[i][j] in ['^', '>', '<', 'v']:\n",
    "                return i,j"
   ]
  },
  {
   "cell_type": "code",
   "execution_count": null,
   "metadata": {},
   "outputs": [],
   "source": [
    "def move_one_dir(tup_pos, lst_of_lst):\n",
    "\n",
    "    ind = tup_pos[0]\n",
    "    col = tup_pos[1]\n",
    "    \n",
    "    if lst_of_lst[ind][col] == '^':\n",
    "        # Move up\n",
    "        ind -= 1\n",
    "        while ind >= 0 and lst_of_lst[ind][col] != '#':\n",
    "            lst_of_lst[ind+1][col] = 'X'\n",
    "            lst_of_lst[ind][col] = '^'\n",
    "            ind -= 1\n",
    "        if ind < 0:\n",
    "            lst_of_lst[ind+1][col] = 'X'\n",
    "            raise ValueError('The guard is out')\n",
    "        elif lst_of_lst[ind][col] == '#':\n",
    "            ind += 1\n",
    "            lst_of_lst[ind][col] = '>'  \n",
    "\n",
    "    elif lst_of_lst[ind][col] == '>':\n",
    "        # Move right\n",
    "        col += 1\n",
    "        while col <= len(lst_of_lst[ind])-1 and lst_of_lst[ind][col] != '#':\n",
    "            lst_of_lst[ind][col-1] = 'X'\n",
    "            lst_of_lst[ind][col] = '>'\n",
    "            col += 1\n",
    "        if col > len(lst_of_lst[ind])-1:\n",
    "            lst_of_lst[ind][col-1] = 'X'\n",
    "            raise ValueError('The guard is out')\n",
    "        elif lst_of_lst[ind][col] == '#':\n",
    "            col -= 1\n",
    "            lst_of_lst[ind][col] = 'v'\n",
    "\n",
    "    elif lst_of_lst[ind][col] == 'v':\n",
    "        # Move down\n",
    "        ind += 1\n",
    "        while ind <= len(lst_of_lst)-1 and lst_of_lst[ind][col] != '#':\n",
    "            lst_of_lst[ind-1][col] = 'X'\n",
    "            lst_of_lst[ind][col] = 'v'\n",
    "            ind += 1\n",
    "        if ind > len(lst_of_lst)-1:\n",
    "            lst_of_lst[ind-1][col] = 'X'\n",
    "            raise ValueError('The guard is out')\n",
    "        elif lst_of_lst[ind][col] == '#':\n",
    "            ind -= 1\n",
    "            lst_of_lst[ind][col] = '<'\n",
    "            \n",
    "    elif lst_of_lst[ind][col] == '<':\n",
    "        # Move left\n",
    "        col -= 1\n",
    "        while col >= 0 and lst_of_lst[ind][col] != '#':\n",
    "            lst_of_lst[ind][col+1] = 'X'\n",
    "            lst_of_lst[ind][col] = '<'\n",
    "            col -= 1\n",
    "        if col < 0:\n",
    "            lst_of_lst[ind][col+1] = 'X'\n",
    "            raise ValueError('The guard is out')\n",
    "        elif lst_of_lst[ind][col] == '#':\n",
    "            col += 1\n",
    "            lst_of_lst[ind][col] = '^'\n",
    "    \n",
    "    else:\n",
    "        raise NameError\n",
    "    \n",
    "    return move_one_dir((ind, col),lst_of_lst)"
   ]
  },
  {
   "cell_type": "code",
   "execution_count": null,
   "metadata": {},
   "outputs": [],
   "source": [
    "def move(tup_pos, lst_of_lst):\n",
    "    final = copy.deepcopy(lst_of_lst)\n",
    "    try:\n",
    "        return move_one_dir(tup_pos, final)\n",
    "    except ValueError as e:\n",
    "        print(e)\n",
    "        count = 0\n",
    "        for lst in final:\n",
    "            count += lst.count('X')\n",
    "            print(''.join(lst))\n",
    "        return count"
   ]
  },
  {
   "cell_type": "code",
   "execution_count": null,
   "metadata": {},
   "outputs": [],
   "source": [
    "init_pos = find_guard(txt)\n",
    "init_pos"
   ]
  },
  {
   "cell_type": "code",
   "execution_count": null,
   "metadata": {},
   "outputs": [],
   "source": [
    "nb_X = move(init_pos, txt)\n",
    "print(nb_X)"
   ]
  },
  {
   "cell_type": "markdown",
   "metadata": {},
   "source": [
    "### Part II"
   ]
  },
  {
   "cell_type": "code",
   "execution_count": null,
   "metadata": {},
   "outputs": [],
   "source": [
    "def move_trace_one_dir(tup_pos, lst_of_lst):\n",
    "\n",
    "    ind = tup_pos[0]\n",
    "    col = tup_pos[1]\n",
    "    # print('Start')\n",
    "    \n",
    "    if lst_of_lst[ind][col] == '^':\n",
    "        # print('Moving up!')\n",
    "        lst_of_lst[ind][col] = '+'\n",
    "        ind -= 1\n",
    "        while ind >= 0 and lst_of_lst[ind][col] != '#':\n",
    "            lst_of_lst[ind+1][col] = '|'\n",
    "            lst_of_lst[ind][col] = '^'\n",
    "            ind -= 1\n",
    "        if ind < 0:\n",
    "            lst_of_lst[ind+1][col] = '|'\n",
    "            raise ValueError('The guard is out')\n",
    "        elif lst_of_lst[ind][col] == '#':\n",
    "            ind += 1\n",
    "            lst_of_lst[ind][col] = '>'  \n",
    "\n",
    "    elif lst_of_lst[ind][col] == '>':\n",
    "        # print('Moving right!')\n",
    "        lst_of_lst[ind][col] = '+'\n",
    "        col += 1\n",
    "        while col <= len(lst_of_lst[ind])-1 and lst_of_lst[ind][col] != '#':\n",
    "            lst_of_lst[ind][col-1] = '-'\n",
    "            lst_of_lst[ind][col] = '>'\n",
    "            col += 1\n",
    "        if col > len(lst_of_lst[ind])-1:\n",
    "            lst_of_lst[ind][col-1] = '-'\n",
    "            raise ValueError('The guard is out')\n",
    "        elif lst_of_lst[ind][col] == '#':\n",
    "            col -= 1\n",
    "            lst_of_lst[ind][col] = 'v'\n",
    "\n",
    "    elif lst_of_lst[ind][col] == 'v':\n",
    "        # print('Moving down!')\n",
    "        lst_of_lst[ind][col] = '+'\n",
    "        ind += 1\n",
    "        while ind <= len(lst_of_lst)-1 and lst_of_lst[ind][col] != '#':\n",
    "            lst_of_lst[ind-1][col] = '|'\n",
    "            lst_of_lst[ind][col] = 'v'\n",
    "            ind += 1\n",
    "        if ind > len(lst_of_lst)-1:\n",
    "            lst_of_lst[ind-1][col] = '|'\n",
    "            raise ValueError('The guard is out')\n",
    "        elif lst_of_lst[ind][col] == '#':\n",
    "            ind -= 1\n",
    "            lst_of_lst[ind][col] = '<'\n",
    "            \n",
    "    elif lst_of_lst[ind][col] == '<':\n",
    "        # print('Moving left!')\n",
    "        lst_of_lst[ind][col] = '+'\n",
    "        col -= 1\n",
    "        while col >= 0 and lst_of_lst[ind][col] != '#':\n",
    "            lst_of_lst[ind][col+1] = '-'\n",
    "            lst_of_lst[ind][col] = '<'\n",
    "            col -= 1\n",
    "        if col < 0:\n",
    "            lst_of_lst[ind][col+1] = '-'\n",
    "            raise ValueError('The guard is out')\n",
    "        elif lst_of_lst[ind][col] == '#':\n",
    "            col += 1\n",
    "            lst_of_lst[ind][col] = '^'\n",
    "    \n",
    "\n",
    "    # else:\n",
    "    #     print('Oh no!')\n",
    "    #     raise NameError\n",
    "    \n",
    "    return move_trace_one_dir((ind, col),lst_of_lst)"
   ]
  },
  {
   "cell_type": "code",
   "execution_count": null,
   "metadata": {},
   "outputs": [],
   "source": [
    "def move_part_2(tup_pos, lst_of_lst):\n",
    "    count_infinity = 0\n",
    "    for i in range(len(lst_of_lst)):\n",
    "        for j in range(len(lst_of_lst[i])):\n",
    "            final = copy.deepcopy(lst_of_lst)\n",
    "            try:\n",
    "                if final[i][j] != '#' and (i,j) != find_guard(lst_of_lst):\n",
    "                    final[i][j] = '#'\n",
    "                    return move_trace_one_dir(tup_pos, final)\n",
    "            except RecursionError:\n",
    "                # print(f'When an obstacle is placed at i={i} and j={j}, the guard is stuck in an infinite loop!')\n",
    "                count_infinity += 1\n",
    "            except ValueError as e:\n",
    "                # print(e)\n",
    "                # print(f' Putting an obstacle at i={i} and j={j} has no effect')\n",
    "                pass\n",
    "    return count_infinity"
   ]
  },
  {
   "cell_type": "code",
   "execution_count": null,
   "metadata": {},
   "outputs": [],
   "source": [
    "nb_for_inf = move_part_2(init_pos, txt)"
   ]
  },
  {
   "cell_type": "code",
   "execution_count": null,
   "metadata": {},
   "outputs": [],
   "source": [
    "nb_for_inf"
   ]
  },
  {
   "cell_type": "code",
   "execution_count": null,
   "metadata": {},
   "outputs": [],
   "source": []
  }
 ],
 "metadata": {
  "kernelspec": {
   "display_name": "base",
   "language": "python",
   "name": "python3"
  },
  "language_info": {
   "codemirror_mode": {
    "name": "ipython",
    "version": 3
   },
   "file_extension": ".py",
   "mimetype": "text/x-python",
   "name": "python",
   "nbconvert_exporter": "python",
   "pygments_lexer": "ipython3",
   "version": "3.12.7"
  }
 },
 "nbformat": 4,
 "nbformat_minor": 2
}
