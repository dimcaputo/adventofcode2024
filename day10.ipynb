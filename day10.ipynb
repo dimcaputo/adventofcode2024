{
 "cells": [
  {
   "cell_type": "code",
   "execution_count": 1,
   "metadata": {},
   "outputs": [],
   "source": [
    "import os"
   ]
  },
  {
   "cell_type": "code",
   "execution_count": 2,
   "metadata": {},
   "outputs": [],
   "source": [
    "with open(os.path.expanduser('~/Downloads/input10.txt')) as f:\n",
    "    txt = [x.strip('\\n') for x in f.readlines()]"
   ]
  },
  {
   "cell_type": "code",
   "execution_count": 3,
   "metadata": {},
   "outputs": [
    {
     "data": {
      "text/plain": [
       "['123454078104569871014321021321012349878967874',\n",
       " '002965169245678562105489110456701256767456983',\n",
       " '411873254324329453456976522343812323454305432',\n",
       " '320984589010012306567887431098943210563216761',\n",
       " '458976673407873210698790346787654329874109850',\n",
       " '367887654356912348787891245497645698556780943',\n",
       " '656792343105401059678712312338562107649891234',\n",
       " '343001643234332769589600404329431236032321104',\n",
       " '102198756121049878465521565010120345121430213',\n",
       " '234567987012156912374437674320345034560345412']"
      ]
     },
     "execution_count": 3,
     "metadata": {},
     "output_type": "execute_result"
    }
   ],
   "source": [
    "txt[:10]"
   ]
  },
  {
   "cell_type": "code",
   "execution_count": 4,
   "metadata": {},
   "outputs": [
    {
     "data": {
      "text/plain": [
       "(45, 45)"
      ]
     },
     "execution_count": 4,
     "metadata": {},
     "output_type": "execute_result"
    }
   ],
   "source": [
    "len(txt), len(txt[0])"
   ]
  },
  {
   "cell_type": "code",
   "execution_count": 5,
   "metadata": {},
   "outputs": [],
   "source": [
    "pos_zeros = [(i,j) for i in range(len(txt)) for j in range(len(txt)) if txt[i][j] == '0']"
   ]
  },
  {
   "cell_type": "code",
   "execution_count": 6,
   "metadata": {},
   "outputs": [
    {
     "data": {
      "text/plain": [
       "'[(0, 6), (0, 10), (0, 18), (0, 24), (0, 30), (1, 0), (1, 1), (1, 19), (1, 26), (1, 31), (2, 40), (3, 2), (3, 9), (3, 11), (3, 12), (3, 16), (3, 27), (3, 35), (4, 10), (4, 17), (4, 23), (4, 40), (4, 44), (5, 41), (6, 10), (6, 13), (6, 15), (6, 34), (7, 3), (7, 4), (7, 22), (7, 23), (7, 25), (7, 36), (7, 43), (8, 1), (8, 12), (8, 27), (8, 29), (8, 32), (8, 41), (9, 9), (9, 29), (9, 33), (9, 38), (10, 10), (10, 16), (10, 27), (10, 43), (11, 0), (11, 24), (11, 33), (11, 39), (12, 0), (12, 16), (12, 19), (12, 20), (12, 34), (13, 3), (13, 5), (13, 9), (13, 18), (13, 20), (13, 24), (13, 32), (13, 36), (13, 37), (13, 41), (14, 0), (14, 25), (15, 1), (15, 10), (15, 13), (15, 15), (15, 28), (16, 0), (16, 2), (16, 5), (16, 20), (16, 23), (16, 40), (17, 4), (17, 19), (17, 37), (18, 31), (18, 32), (19, 5), (19, 9), (19, 11), (19, 13), (19, 18), (19, 19), (19, 26), (20, 7), (20, 12), (20, 28), (20, 37), (20, 39), (20, 42), (20, 43), (21, 6), (21, 10), (21, 43), (22, 10), (22, 19), (22, 26), (22, 36), (23, 1), (23, 5), (23, 25), (23, 27), (23, 31), (24, 0), (24, 6), (24, 10), (24, 14), (24, 24), (24, 30), (24, 42), (24, 44), (25, 20), (25, 32), (26, 4), (26, 10), (26, 16), (26, 21), (26, 36), (26, 41), (27, 9), (27, 17), (27, 22), (27, 27), (27, 35), (28, 4), (28, 15), (28, 27), (28, 40), (29, 11), (29, 16), (29, 18), (29, 25), (29, 38), (30, 0), (30, 8), (31, 1), (31, 5), (31, 33), (31, 38), (32, 7), (32, 13), (32, 22), (32, 23), (32, 25), (32, 27), (32, 44), (33, 16), (33, 25), (33, 42), (33, 44), (34, 2), (34, 17), (34, 22), (34, 35), (35, 6), (35, 10), (35, 13), (35, 28), (35, 36), (35, 43), (36, 13), (36, 32), (36, 36), (36, 40), (36, 42), (37, 7), (37, 14), (37, 16), (37, 19), (37, 24), (37, 30), (38, 2), (38, 6), (38, 10), (38, 18), (38, 34), (38, 36), (38, 40), (38, 41), (39, 36), (40, 14), (40, 15), (40, 25), (40, 30), (40, 32), (41, 3), (41, 6), (41, 26), (41, 30), (41, 32), (41, 38), (42, 0), (42, 6), (42, 38), (43, 20), (43, 29), (43, 30), (44, 6), (44, 15), (44, 17), (44, 21), (44, 23), (44, 30), (44, 34), (44, 43)]'"
      ]
     },
     "execution_count": 6,
     "metadata": {},
     "output_type": "execute_result"
    }
   ],
   "source": [
    "str(pos_zeros)"
   ]
  },
  {
   "cell_type": "code",
   "execution_count": 7,
   "metadata": {},
   "outputs": [],
   "source": [
    "dico_numbers = [{} for x in range(0,9)]"
   ]
  },
  {
   "cell_type": "code",
   "execution_count": 8,
   "metadata": {},
   "outputs": [
    {
     "data": {
      "text/plain": [
       "[{}, {}, {}, {}, {}, {}, {}, {}, {}]"
      ]
     },
     "execution_count": 8,
     "metadata": {},
     "output_type": "execute_result"
    }
   ],
   "source": [
    "dico_numbers"
   ]
  },
  {
   "cell_type": "code",
   "execution_count": 9,
   "metadata": {},
   "outputs": [],
   "source": [
    "directions = [(x,y) for x in [-1, 0, 1] for y in [-1, 0, 1] if (x,y) != (0,0)]"
   ]
  },
  {
   "cell_type": "code",
   "execution_count": 10,
   "metadata": {},
   "outputs": [
    {
     "data": {
      "text/plain": [
       "[(-1, -1), (-1, 0), (-1, 1), (0, -1), (0, 1), (1, -1), (1, 0), (1, 1)]"
      ]
     },
     "execution_count": 10,
     "metadata": {},
     "output_type": "execute_result"
    }
   ],
   "source": [
    "directions"
   ]
  },
  {
   "cell_type": "code",
   "execution_count": 11,
   "metadata": {},
   "outputs": [],
   "source": [
    "def get_next_number_pos(position, number):\n",
    "    ind,col = position\n",
    "    tour = 0\n",
    "    for tup in directions:\n",
    "        if 0 <= ind+tup[0] <= len(txt)-1:\n",
    "            ind += tup[0]\n",
    "        if 0 <= col+tup[1] <= len(txt)-1:\n",
    "            col += tup[1]\n",
    "        if txt[ind][col] == number + 1:\n",
    "            dico_numbers[number][position] = (ind, col)\n",
    "        else:\n",
    "            dico_numbers[number][tour] = 'raté'\n",
    "            tour += 1\n",
    "\n",
    "def build_dico():\n",
    "    for pos in pos_zeros:\n",
    "        get_next_number_pos(pos, 0)\n",
    "    for x in range(1,9):\n",
    "        for ind,col in dico_numbers[x-1].values():\n",
    "            get_next_number_pos((ind,col), x)"
   ]
  },
  {
   "cell_type": "code",
   "execution_count": 12,
   "metadata": {},
   "outputs": [
    {
     "data": {
      "text/plain": [
       "[{}, {}, {}, {}, {}, {}, {}, {}, {}]"
      ]
     },
     "execution_count": 12,
     "metadata": {},
     "output_type": "execute_result"
    }
   ],
   "source": [
    "dico_numbers"
   ]
  },
  {
   "cell_type": "code",
   "execution_count": 13,
   "metadata": {},
   "outputs": [],
   "source": [
    "get_next_number_pos((0,6), 0)"
   ]
  },
  {
   "cell_type": "code",
   "execution_count": 14,
   "metadata": {},
   "outputs": [],
   "source": [
    "if __name__ == '__main__':\n",
    "    get_next_number_pos((0,6), 0)"
   ]
  },
  {
   "cell_type": "code",
   "execution_count": null,
   "metadata": {},
   "outputs": [],
   "source": []
  }
 ],
 "metadata": {
  "kernelspec": {
   "display_name": "perso",
   "language": "python",
   "name": "python3"
  },
  "language_info": {
   "codemirror_mode": {
    "name": "ipython",
    "version": 3
   },
   "file_extension": ".py",
   "mimetype": "text/x-python",
   "name": "python",
   "nbconvert_exporter": "python",
   "pygments_lexer": "ipython3",
   "version": "3.12.8"
  }
 },
 "nbformat": 4,
 "nbformat_minor": 2
}
