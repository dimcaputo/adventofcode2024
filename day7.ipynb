{
 "cells": [
  {
   "cell_type": "code",
   "execution_count": 1,
   "metadata": {},
   "outputs": [],
   "source": [
    "import os\n",
    "from itertools import product\n",
    "\n",
    "with open(os.path.expanduser(\"~/Downloads/input7.txt\")) as f:\n",
    "    txt = [(x.strip('\\n').split(': ')[0], x.strip('\\n').split(': ')[1].split(' ')) for x in f.readlines()]"
   ]
  },
  {
   "cell_type": "code",
   "execution_count": 2,
   "metadata": {},
   "outputs": [],
   "source": [
    "def compute_all_operation(tup):\n",
    "    to_test = tup[1][1:]\n",
    "    lst_results = []\n",
    "    \n",
    "    n = len(tup[1])-1\n",
    "    masks = list(product([0, 1], repeat=n)) \n",
    "    for mask in masks:\n",
    "        result = int(tup[1][0])\n",
    "        for i in range(0,len(mask)): \n",
    "            if mask[i] == 0:\n",
    "                result += int(tup[1][i+1])\n",
    "            if mask[i] == 1:\n",
    "                result *= int(tup[1][i+1])\n",
    "        lst_results.append(result) \n",
    "    return lst_results\n"
   ]
  },
  {
   "cell_type": "code",
   "execution_count": 3,
   "metadata": {},
   "outputs": [],
   "source": [
    "def is_tup_okay(tup, lst_of_results):\n",
    "    if int(tup[0]) in lst_of_results:\n",
    "        return True"
   ]
  },
  {
   "cell_type": "code",
   "execution_count": 9,
   "metadata": {},
   "outputs": [],
   "source": [
    "def calculate_sum(lst_of_tup):\n",
    "    sum = 0\n",
    "    for tup in lst_of_tup:\n",
    "        sum += int(tup[0])\n",
    "    return sum\n"
   ]
  },
  {
   "cell_type": "code",
   "execution_count": 5,
   "metadata": {},
   "outputs": [],
   "source": [
    "lst_okay_tup = []\n",
    "for tup in txt:\n",
    "    lst_results_operations = compute_all_operation(tup)\n",
    "    if is_tup_okay(tup, lst_results_operations):\n",
    "        lst_okay_tup.append(tup)\n",
    "    \n",
    "    "
   ]
  },
  {
   "cell_type": "markdown",
   "metadata": {},
   "source": [
    "### Part 2"
   ]
  },
  {
   "cell_type": "code",
   "execution_count": 6,
   "metadata": {},
   "outputs": [],
   "source": [
    "def compute_all_operation2(tup):\n",
    "    to_test = tup[1][1:]\n",
    "    lst_results = []\n",
    "    \n",
    "    n = len(tup[1])-1\n",
    "    masks = list(product([0, 1, 2], repeat=n)) \n",
    "    for mask in masks:\n",
    "        result = int(tup[1][0])\n",
    "        for i in range(0,len(mask)): \n",
    "            if mask[i] == 0:\n",
    "                result += int(tup[1][i+1])\n",
    "            if mask[i] == 1:\n",
    "                result *= int(tup[1][i+1])\n",
    "            if mask[i] == 2:\n",
    "                result = int(str(result)+tup[1][i+1])\n",
    "        lst_results.append(result) \n",
    "    return lst_results"
   ]
  },
  {
   "cell_type": "code",
   "execution_count": 7,
   "metadata": {},
   "outputs": [],
   "source": [
    "lst_okay_tup2 = []\n",
    "for tup in txt:\n",
    "    lst_results_operations2 = compute_all_operation2(tup)\n",
    "    if is_tup_okay(tup, lst_results_operations2):\n",
    "        lst_okay_tup2.append(tup)"
   ]
  },
  {
   "cell_type": "code",
   "execution_count": 10,
   "metadata": {},
   "outputs": [
    {
     "data": {
      "text/plain": [
       "169122112716571"
      ]
     },
     "execution_count": 10,
     "metadata": {},
     "output_type": "execute_result"
    }
   ],
   "source": [
    "calculate_sum(lst_okay_tup2)"
   ]
  },
  {
   "cell_type": "code",
   "execution_count": null,
   "metadata": {},
   "outputs": [],
   "source": []
  }
 ],
 "metadata": {
  "kernelspec": {
   "display_name": "base",
   "language": "python",
   "name": "python3"
  },
  "language_info": {
   "codemirror_mode": {
    "name": "ipython",
    "version": 3
   },
   "file_extension": ".py",
   "mimetype": "text/x-python",
   "name": "python",
   "nbconvert_exporter": "python",
   "pygments_lexer": "ipython3",
   "version": "3.12.7"
  }
 },
 "nbformat": 4,
 "nbformat_minor": 2
}
