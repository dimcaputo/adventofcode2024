{
 "cells": [
  {
   "cell_type": "code",
   "execution_count": 13,
   "metadata": {},
   "outputs": [],
   "source": [
    "import os\n",
    "\n",
    "with open(os.path.expanduser(\"~/Downloads/input8.txt\")) as f:\n",
    "    txt = [x.strip('\\n') for x in f.readlines()]"
   ]
  },
  {
   "cell_type": "code",
   "execution_count": 17,
   "metadata": {},
   "outputs": [],
   "source": [
    "letters = ''\n",
    "for char in txt:\n",
    "    letters += char.replace('.', '')"
   ]
  },
  {
   "cell_type": "code",
   "execution_count": 18,
   "metadata": {},
   "outputs": [
    {
     "data": {
      "text/plain": [
       "['N',\n",
       " '0',\n",
       " 'a',\n",
       " 'J',\n",
       " 'n',\n",
       " 'Y',\n",
       " 'z',\n",
       " 'j',\n",
       " '9',\n",
       " '3',\n",
       " 'O',\n",
       " 'g',\n",
       " 'G',\n",
       " 'Q',\n",
       " '8',\n",
       " '7',\n",
       " 'X',\n",
       " 'M',\n",
       " 'm',\n",
       " 'Z',\n",
       " 'x',\n",
       " 'b',\n",
       " 'B',\n",
       " 'u',\n",
       " 'A',\n",
       " 'w',\n",
       " '4',\n",
       " 'E',\n",
       " 'q',\n",
       " '1',\n",
       " 'e',\n",
       " 'W',\n",
       " 'o',\n",
       " '5',\n",
       " '6',\n",
       " '2',\n",
       " 'U',\n",
       " 'y']"
      ]
     },
     "execution_count": 18,
     "metadata": {},
     "output_type": "execute_result"
    }
   ],
   "source": [
    "lst_letters = list(set(list(letters)))\n",
    "lst_letters"
   ]
  },
  {
   "cell_type": "code",
   "execution_count": null,
   "metadata": {},
   "outputs": [],
   "source": []
  }
 ],
 "metadata": {
  "kernelspec": {
   "display_name": "base",
   "language": "python",
   "name": "python3"
  },
  "language_info": {
   "codemirror_mode": {
    "name": "ipython",
    "version": 3
   },
   "file_extension": ".py",
   "mimetype": "text/x-python",
   "name": "python",
   "nbconvert_exporter": "python",
   "pygments_lexer": "ipython3",
   "version": "3.12.7"
  }
 },
 "nbformat": 4,
 "nbformat_minor": 2
}
