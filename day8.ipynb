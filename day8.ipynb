{
 "cells": [
  {
   "cell_type": "code",
   "execution_count": 1,
   "metadata": {},
   "outputs": [],
   "source": [
    "import os\n",
    "import copy\n",
    "\n",
    "with open(os.path.expanduser(\"~/Downloads/input8.txt\")) as f:\n",
    "    lstStr = [x.strip('\\n') for x in f.readlines()]\n",
    "    lstLst = [list(x) for x in lstStr]"
   ]
  },
  {
   "cell_type": "code",
   "execution_count": null,
   "metadata": {},
   "outputs": [],
   "source": [
    "letters = ''\n",
    "for char in lstStr:\n",
    "    letters += char.replace('.', '')\n",
    "\n",
    "lst_antennas = list(set(list(letters)))"
   ]
  },
  {
   "cell_type": "code",
   "execution_count": 5,
   "metadata": {},
   "outputs": [],
   "source": [
    "# def display_on_antenna(lst_of_lst, char):\n",
    "#     working_list = copy.deepcopy(lst_of_lst)\n",
    "#     for lst in working_list:\n",
    "#         for i in range(len(lst)):\n",
    "#             if lst[i] != '.' and lst[i] != char:\n",
    "#                 lst[i] = '.'\n",
    "#         print(''.join(lst))\n",
    "#     return working_list\n",
    "\n",
    "# def find_positions(lst_of_lst, char):\n",
    "#     pass"
   ]
  },
  {
   "cell_type": "code",
   "execution_count": 6,
   "metadata": {},
   "outputs": [],
   "source": [
    "def find_position_chars(char, lst_of_lst):\n",
    "    lst_pos = []\n",
    "    for i in range(len(lst_of_lst)):\n",
    "        for j in range(len(lst_of_lst[i])):\n",
    "            if lst_of_lst[i][j] == char:\n",
    "                lst_pos.append((i,j))\n",
    "    return lst_pos\n"
   ]
  },
  {
   "cell_type": "code",
   "execution_count": 7,
   "metadata": {},
   "outputs": [],
   "source": [
    "lst_for_A = find_position_chars('A', lstLst)"
   ]
  },
  {
   "cell_type": "code",
   "execution_count": null,
   "metadata": {},
   "outputs": [
    {
     "data": {
      "text/plain": [
       "[(8, 13), (11, 23), (18, 22), (47, 42)]"
      ]
     },
     "execution_count": 8,
     "metadata": {},
     "output_type": "execute_result"
    }
   ],
   "source": [
    "lst_for_A\n"
   ]
  },
  {
   "cell_type": "code",
   "execution_count": null,
   "metadata": {},
   "outputs": [],
   "source": []
  }
 ],
 "metadata": {
  "kernelspec": {
   "display_name": "base",
   "language": "python",
   "name": "python3"
  },
  "language_info": {
   "codemirror_mode": {
    "name": "ipython",
    "version": 3
   },
   "file_extension": ".py",
   "mimetype": "text/x-python",
   "name": "python",
   "nbconvert_exporter": "python",
   "pygments_lexer": "ipython3",
   "version": "3.12.7"
  }
 },
 "nbformat": 4,
 "nbformat_minor": 2
}
