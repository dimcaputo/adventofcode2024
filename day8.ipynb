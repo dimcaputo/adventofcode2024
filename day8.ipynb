{
 "cells": [
  {
   "cell_type": "code",
   "execution_count": 1,
   "metadata": {},
   "outputs": [],
   "source": [
    "import os\n",
    "import copy\n",
    "\n",
    "with open(os.path.expanduser(\"~/Downloads/input8.txt\")) as f:\n",
    "    lstStr = [x.strip('\\n') for x in f.readlines()]\n",
    "    lstLst = [list(x) for x in lstStr]"
   ]
  },
  {
   "cell_type": "code",
   "execution_count": 2,
   "metadata": {},
   "outputs": [],
   "source": [
    "letters = ''\n",
    "for char in lstStr:\n",
    "    letters += char.replace('.', '')\n",
    "\n",
    "lst_antennas = list(set(list(letters)))"
   ]
  },
  {
   "cell_type": "code",
   "execution_count": 3,
   "metadata": {},
   "outputs": [],
   "source": [
    "def find_position_antenna(char, lst_of_lst):\n",
    "    lst_pos = []\n",
    "    for i in range(len(lst_of_lst)):\n",
    "        for j in range(len(lst_of_lst[i])):\n",
    "            if lst_of_lst[i][j] == char:\n",
    "                lst_pos.append((i,j))\n",
    "    return lst_pos\n"
   ]
  },
  {
   "cell_type": "code",
   "execution_count": 4,
   "metadata": {},
   "outputs": [],
   "source": [
    "def find_position_abnormalities(lst_tup_pos):\n",
    "    lst_pair_tup = [] #Makes list of all the pairs of the same antennas\n",
    "    for i in range(len(lst_tup_pos)):\n",
    "        for j in range(i, len(lst_tup_pos)):\n",
    "            if lst_tup_pos[i] != lst_tup_pos[j]:\n",
    "                lst_pair_tup.append([lst_tup_pos[i], lst_tup_pos[j]])\n",
    "    lst_diff = [] #Calculates the distance between a pair of antenna\n",
    "    for item in lst_pair_tup:\n",
    "        lst_diff.append((item[1][0]-item[0][0], item[1][1]-item[0][1]))\n",
    "    lst_pos_ab = [] #Remove the distance from the first item of the pair and adds the distance to the second item of the pair\n",
    "    for tup, item in zip(lst_diff, lst_pair_tup):\n",
    "            lst_pos_ab.append((item[0][0]-tup[0],item[0][1]-tup[1]))\n",
    "            lst_pos_ab.append((item[1][0]+tup[0],item[1][1]+tup[1]))\n",
    "    return lst_pos_ab\n"
   ]
  },
  {
   "cell_type": "code",
   "execution_count": 5,
   "metadata": {},
   "outputs": [],
   "source": [
    "def write_on(lst_of_pos, lst_of_lst):\n",
    "    for (i,j) in lst_of_pos:\n",
    "        if 0 < i <= len(lst_of_lst)-1 and 0 < j <= len(lst_of_lst[0])-1:\n",
    "            lst_of_lst[i][j] = '#'"
   ]
  },
  {
   "cell_type": "code",
   "execution_count": 6,
   "metadata": {},
   "outputs": [],
   "source": [
    "lstPoints = [['.' for x in lstLst[0]] for x in lstLst]"
   ]
  },
  {
   "cell_type": "code",
   "execution_count": 7,
   "metadata": {},
   "outputs": [],
   "source": [
    "for antenna in lst_antennas:\n",
    "    lst_pos_antenna = find_position_antenna(antenna, lstLst)\n",
    "    lst_pos_abnormalities = find_position_abnormalities(lst_pos_antenna)\n",
    "    write_on(lst_pos_abnormalities, lstPoints)"
   ]
  },
  {
   "cell_type": "code",
   "execution_count": 8,
   "metadata": {},
   "outputs": [
    {
     "name": "stdout",
     "output_type": "stream",
     "text": [
      "..................................................\n",
      "....#.................#.....#...#.......#.........\n",
      "................#.##....#.......................#.\n",
      "...........#.........#...........##...............\n",
      ".................#...#.##.....................#...\n",
      "...#.......#..#...#...............................\n",
      "....#.......#.....................................\n",
      "......#..............#.##.......................#.\n",
      "........#.................#........#.......#......\n",
      "........................#......................#..\n",
      ".....#..............#..................#..........\n",
      "......#.......#......................##.##........\n",
      "....#..#.#....#......#....##.............#........\n",
      "..................#..........................#....\n",
      ".......#....#....#.....#..#......#...#.#.#........\n",
      "....#.....#.............###....#..#...............\n",
      ".#.....#........#....#.........##..#........#.#...\n",
      "..##....#....#.......#..#.#.......................\n",
      "..........#...........#..................#.##.....\n",
      ".....#.#...#.........................#......#.....\n",
      "....#.#..............#...##..#....................\n",
      ".#..........#..................#.#......#.........\n",
      "...#..#....#.............#.#..#.............##....\n",
      "..............#............#...#.....##.......##.#\n",
      "............................##....#...............\n",
      ".........#...........#.#...#..#...#..............#\n",
      "..................................................\n",
      "........#.............###.....#....#...#..#.......\n",
      ".......#..................#....#........##..#.....\n",
      ".....##................#........#.#.......#..#...#\n",
      "..#......#...........#...#....#......#...........#\n",
      ".#......................##............#.......#...\n",
      ".....#............#...............#........#......\n",
      "............................#.....................\n",
      "...............#..#.#...#......##....#....##.##...\n",
      "................#...............#......#..........\n",
      "....#.......#....#..#..##.........................\n",
      "..#..#.............#.#.#...............#..........\n",
      "...#...............#........#....#................\n",
      "................#..............#.......#....#.....\n",
      ".......................##.........................\n",
      "..#............##....#............#...............\n",
      "........................#......##..#..............\n",
      "..................#........................#...#..\n",
      "...#................#......#...............#......\n",
      "..............#............#...#........#.........\n",
      "..#...........................#....#..............\n",
      "....................#..##..................#....#.\n",
      "..#...........#.................#.........#.......\n",
      ".#..................................#...........#.\n"
     ]
    }
   ],
   "source": [
    "for lst in lstPoints:\n",
    "    print(''.join(lst))"
   ]
  },
  {
   "cell_type": "code",
   "execution_count": 9,
   "metadata": {},
   "outputs": [
    {
     "name": "stdout",
     "output_type": "stream",
     "text": [
      "244\n"
     ]
    }
   ],
   "source": [
    "count = 0\n",
    "for lst in lstPoints:\n",
    "    for item in lst:\n",
    "        if item == '#':\n",
    "            count += 1\n",
    "\n",
    "print(count)"
   ]
  },
  {
   "cell_type": "code",
   "execution_count": null,
   "metadata": {},
   "outputs": [],
   "source": []
  }
 ],
 "metadata": {
  "kernelspec": {
   "display_name": "base",
   "language": "python",
   "name": "python3"
  },
  "language_info": {
   "codemirror_mode": {
    "name": "ipython",
    "version": 3
   },
   "file_extension": ".py",
   "mimetype": "text/x-python",
   "name": "python",
   "nbconvert_exporter": "python",
   "pygments_lexer": "ipython3",
   "version": "3.12.7"
  }
 },
 "nbformat": 4,
 "nbformat_minor": 2
}
